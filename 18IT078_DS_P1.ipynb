{
  "nbformat": 4,
  "nbformat_minor": 0,
  "metadata": {
    "kernelspec": {
      "display_name": "Python 3",
      "language": "python",
      "name": "python3"
    },
    "language_info": {
      "codemirror_mode": {
        "name": "ipython",
        "version": 3
      },
      "file_extension": ".py",
      "mimetype": "text/x-python",
      "name": "python",
      "nbconvert_exporter": "python",
      "pygments_lexer": "ipython3",
      "version": "3.8.3"
    },
    "colab": {
      "name": "18IT078_DS_P1.ipynb",
      "provenance": [],
      "collapsed_sections": []
    }
  },
  "cells": [
    {
      "cell_type": "code",
      "metadata": {
        "colab": {
          "base_uri": "https://localhost:8080/"
        },
        "id": "C4BQvit6k_s8",
        "outputId": "61163647-fb03-4d17-a33c-74bf1f43d7ae"
      },
      "source": [
        "pip install pandas"
      ],
      "execution_count": null,
      "outputs": [
        {
          "output_type": "stream",
          "text": [
            "Requirement already satisfied: pandas in /usr/local/lib/python3.7/dist-packages (1.1.5)\n",
            "Requirement already satisfied: numpy>=1.15.4 in /usr/local/lib/python3.7/dist-packages (from pandas) (1.19.5)\n",
            "Requirement already satisfied: pytz>=2017.2 in /usr/local/lib/python3.7/dist-packages (from pandas) (2018.9)\n",
            "Requirement already satisfied: python-dateutil>=2.7.3 in /usr/local/lib/python3.7/dist-packages (from pandas) (2.8.1)\n",
            "Requirement already satisfied: six>=1.5 in /usr/local/lib/python3.7/dist-packages (from python-dateutil>=2.7.3->pandas) (1.15.0)\n"
          ],
          "name": "stdout"
        }
      ]
    },
    {
      "cell_type": "code",
      "metadata": {
        "colab": {
          "base_uri": "https://localhost:8080/"
        },
        "id": "ggAWFp0mk_tA",
        "outputId": "b42187e5-27a0-490a-92f7-6d9f00169fe8"
      },
      "source": [
        "pip install requests"
      ],
      "execution_count": null,
      "outputs": [
        {
          "output_type": "stream",
          "text": [
            "Requirement already satisfied: requests in /usr/local/lib/python3.7/dist-packages (2.23.0)\n",
            "Requirement already satisfied: urllib3!=1.25.0,!=1.25.1,<1.26,>=1.21.1 in /usr/local/lib/python3.7/dist-packages (from requests) (1.24.3)\n",
            "Requirement already satisfied: chardet<4,>=3.0.2 in /usr/local/lib/python3.7/dist-packages (from requests) (3.0.4)\n",
            "Requirement already satisfied: idna<3,>=2.5 in /usr/local/lib/python3.7/dist-packages (from requests) (2.10)\n",
            "Requirement already satisfied: certifi>=2017.4.17 in /usr/local/lib/python3.7/dist-packages (from requests) (2021.5.30)\n"
          ],
          "name": "stdout"
        }
      ]
    },
    {
      "cell_type": "code",
      "metadata": {
        "colab": {
          "base_uri": "https://localhost:8080/"
        },
        "id": "JX5_lpHZk_tB",
        "outputId": "a3e7fb94-9b66-473c-a924-f43fcd783bb8"
      },
      "source": [
        "pip install bs4"
      ],
      "execution_count": null,
      "outputs": [
        {
          "output_type": "stream",
          "text": [
            "Requirement already satisfied: bs4 in /usr/local/lib/python3.7/dist-packages (0.0.1)\n",
            "Requirement already satisfied: beautifulsoup4 in /usr/local/lib/python3.7/dist-packages (from bs4) (4.6.3)\n"
          ],
          "name": "stdout"
        }
      ]
    },
    {
      "cell_type": "code",
      "metadata": {
        "id": "6gh3SZKVk_tB"
      },
      "source": [
        "from bs4 import BeautifulSoup \n",
        "\n",
        "import requests \n",
        "\n",
        "import csv\n",
        "\n",
        "import pandas as pd"
      ],
      "execution_count": null,
      "outputs": []
    },
    {
      "cell_type": "code",
      "metadata": {
        "id": "1IYVpHp7k_tC"
      },
      "source": [
        "url='https://www.flipkart.com/mobiles/pr?sid=tyy%2C4io&p%5B%5D=facets.brand%255B%255D%3DAsus&otracker=nmenu_sub_Electronics_0_Asus'"
      ],
      "execution_count": null,
      "outputs": []
    },
    {
      "cell_type": "code",
      "metadata": {
        "id": "Cu2Ogai_k_tD"
      },
      "source": [
        "req=requests.get(url)"
      ],
      "execution_count": null,
      "outputs": []
    },
    {
      "cell_type": "code",
      "metadata": {
        "id": "t-5eHBD-k_tD"
      },
      "source": [
        "content=BeautifulSoup(req.content,'html.parser')"
      ],
      "execution_count": null,
      "outputs": []
    },
    {
      "cell_type": "code",
      "metadata": {
        "id": "VVbLMD0gk_tD"
      },
      "source": [
        "name=content.find_all('div',{\"class\":\"_4rR01T\"})\n",
        "price=content.find_all('div',{\"class\":\"_30jeq3 _1_WHN1\"})\n"
      ],
      "execution_count": null,
      "outputs": []
    },
    {
      "cell_type": "code",
      "metadata": {
        "id": "deGdrGU6k_tE"
      },
      "source": [
        "nm=[]\n",
        "pr=[]\n"
      ],
      "execution_count": null,
      "outputs": []
    },
    {
      "cell_type": "code",
      "metadata": {
        "id": "6xWFWdjsk_tF"
      },
      "source": [
        "for i in name:\n",
        "    nm.append(i.text)\n",
        "for i in price:\n",
        "    pr.append(i.text)\n"
      ],
      "execution_count": null,
      "outputs": []
    },
    {
      "cell_type": "code",
      "metadata": {
        "id": "wYhc2nzqk_tF"
      },
      "source": [
        "data={'Name':nm,'Price':pr}\n",
        "df=pd.DataFrame(data)"
      ],
      "execution_count": null,
      "outputs": []
    },
    {
      "cell_type": "code",
      "metadata": {
        "colab": {
          "base_uri": "https://localhost:8080/"
        },
        "id": "dK0uxDsQk_tG",
        "outputId": "e97ca66a-c669-48f2-b0e6-8ab9f98782a6"
      },
      "source": [
        "print(df)"
      ],
      "execution_count": null,
      "outputs": [
        {
          "output_type": "stream",
          "text": [
            "                                       Name    Price\n",
            "0          ASUS ROG Phone 5 (Black, 128 GB)  ₹49,999\n",
            "1          ASUS ROG Phone 3 (Black, 128 GB)  ₹39,999\n",
            "2          ASUS ROG Phone 3 (Black, 128 GB)  ₹43,999\n",
            "3   ASUS ZenFone 5Z (Midnight Blue, 128 GB)  ₹36,299\n",
            "4   ASUS ZenFone 5Z (Meteor Silver, 128 GB)  ₹36,299\n",
            "5       ASUS Zenfone Selfie (Silver, 16 GB)  ₹14,999\n",
            "6          ASUS ROG Phone 5 (Black, 256 GB)  ₹57,999\n",
            "7              ASUS Zenfone Go (Gold, 8 GB)   ₹5,299\n",
            "8         ASUS Zenfone Go 5.5 (Gold, 32 GB)   ₹6,999\n",
            "9     ASUS Zenfone Go (2nd Gen) (Red, 8 GB)   ₹5,299\n",
            "10           ASUS Zenfone Go (Silver, 8 GB)   ₹5,299\n",
            "11       ASUS ZenFone Lite L1 (Gold, 16 GB)   ₹7,199\n",
            "12      ASUS ZenFone Lite L1 (Black, 16 GB)   ₹7,199\n",
            "13         ASUS ROG Phone 5 (White, 128 GB)  ₹49,999\n",
            "14                 ASUS ROG (Black, 128 GB)  ₹26,499\n",
            "15   ASUS Zenfone Selfie (Aqua Blue, 32 GB)  ₹16,999\n",
            "16        ASUS Zenfone Go 5.0 (Black, 8 GB)   ₹7,999\n",
            "17           ASUS Zenfone Go (Silver, 8 GB)   ₹5,699\n",
            "18      ASUS Zenfone Go 4.5 LTE (Red, 8 GB)   ₹7,499\n",
            "19         ASUS Zenfone Go 4.5 (Pink, 8 GB)   ₹5,299\n",
            "20      ASUS Zenfone Go (Silver Blue, 8 GB)   ₹5,699\n",
            "21    ASUS Zenfone Max Pro M1 (Grey, 64 GB)  ₹17,999\n",
            "22               ASUS Zenfone C (Red, 8 GB)   ₹6,299\n",
            "23             ASUS Zenfone C (White, 8 GB)   ₹6,299\n"
          ],
          "name": "stdout"
        }
      ]
    },
    {
      "cell_type": "code",
      "metadata": {
        "id": "o-xFPvQAk_tG"
      },
      "source": [
        "df.to_csv('18it078_aryanpatel.csv')"
      ],
      "execution_count": null,
      "outputs": []
    },
    {
      "cell_type": "code",
      "metadata": {
        "id": "0uG_VFTpk_tG"
      },
      "source": [
        ""
      ],
      "execution_count": null,
      "outputs": []
    }
  ]
}